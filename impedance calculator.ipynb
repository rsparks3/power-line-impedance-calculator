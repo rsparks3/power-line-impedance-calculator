{
 "cells": [
  {
   "cell_type": "markdown",
   "metadata": {},
   "source": [
    "## Power transmission line impedance calculator\n",
    "\n",
    "For three-phase, balanced transmission systems.  Reports positive, negative, and zero sequence symmetrical components of line impedance.  Lines are positioned as shown below with x and y coordinates and resistivity is selected based on type of earth below the line.  Method is based on Power System Analysis and Design [1] pages 197 on.  Earth is replaced with earth return conductors as shown in the Glover textbook referencing Carson [2]\n",
    "\n",
    "<img src=\"transmission line positions.png\" alt=\"diagram\" style=\"width:300px;\"> <img src=\"earth resistivities.png\" alt=\"earth resistivities\" style=\"width:500px\">\n",
    "\n",
    "[1] J. D. Glover, T. J. Overbye, and M. S. Sarma, Power System Analysis & Design. Boston, MA: Cengage Learning, 2017. \n",
    "\n",
    "[2] John R. Carson, “Wave Propagation in Overhead Wires with Ground\n",
    "Return,” Bell System Tech. J. 5 (1926): 539–554."
   ]
  },
  {
   "cell_type": "code",
   "execution_count": 149,
   "metadata": {},
   "outputs": [],
   "source": [
    "import numpy as np\n",
    "import cmath\n",
    "\n",
    "m_to_ft = lambda m : m * 3.28084\n",
    "ft_to_m = lambda ft : ft * 0.30479999\n",
    "mi_to_m = lambda mi : mi * 1.60934 * 1000\n",
    "km_to_mi = lambda km : km * 0.621371\n",
    "\n",
    "# System parameters\n",
    "f = 60 # Hz\n",
    "\n",
    "# Condcutor positions (feet)\n",
    "apos = 0, 48\n",
    "bpos = 25, 48\n",
    "cpos = 50, 48\n",
    "n1pos = 10, 48+23\n",
    "n2pos = 40, 48+23\n",
    "\n",
    "# Conductor properties\n",
    "Ra = Rb = Rc = 0.1128           # Ohms per mile per conductor\n",
    "GMRa = GMRb = GMRc = 0.0403     # Geometric mean radius (feet)\n",
    "bundle = 2                      # Conductors in bundle\n",
    "bundle_spacing = 1.5            # feet\n",
    "\n",
    "# Neutral conductor properties\n",
    "Rn1 = Rn2 = 1.52                # Ohms per km\n",
    "GMRn1 = GMRn2 = 0.0021          # feet\n",
    "\n",
    "# values for dry earth\n",
    "Dkkp = m_to_ft(2690)    # feet"
   ]
  },
  {
   "cell_type": "code",
   "execution_count": 150,
   "metadata": {},
   "outputs": [],
   "source": [
    "def dist(x1, y1, x2, y2):\n",
    "    return np.sqrt((x1-x2)**2 + (y1-y2)**2)\n",
    "\n",
    "Rkp = 9.869E-7*f\n",
    "Rk = (Ra / mi_to_m(1)) / bundle     # convert to ohms per meter per phase\n",
    "Rn = (Rn1 / 1000)                   # convert to ohms per meter\n",
    "\n",
    "Dkkc = (GMRa * bundle_spacing**(bundle-1))**(1/(bundle))\n",
    "Dkkg = GMRn1 \n",
    "\n",
    "Zaa = Zbb = Zcc = Rk + Rkp + (1j*(2*np.pi*60)*(2E-7)*np.log(Dkkp/Dkkc))\n",
    "Zn1n1 = Zn2n2 = Rn + Rkp + (1j*(2*np.pi*60)*(2E-7)*np.log(Dkkp/GMRn1))\n",
    "\n",
    "Zab = Zbc =            Rkp + (1j*(2*np.pi*60)*(2E-7)*np.log((dist(apos[0], apos[1], bpos[0], bpos[1]-Dkkp))/(dist(apos[0],apos[1],bpos[0],bpos[1]))))\n",
    "Zac =                  Rkp + (1j*(2*np.pi*60)*(2E-7)*np.log((dist(apos[0],apos[1], cpos[0], cpos[1]-Dkkp))/(dist(apos[0],apos[1],cpos[0],cpos[1]))))\n",
    "\n",
    "Zan1 = Zcn2 =          Rkp + (1j*(2*np.pi*60)*(2E-7)*np.log((dist(apos[0], apos[1], n1pos[0], n1pos[1]-Dkkp))/(dist(apos[0],apos[1],n1pos[0],n1pos[1]))))\n",
    "Zan2 = Zcn1 =          Rkp + (1j*(2*np.pi*60)*(2E-7)*np.log((dist(apos[0], apos[1], n2pos[0], n2pos[1]-Dkkp))/(dist(apos[0],apos[1],n2pos[0],n2pos[1]))))\n",
    "Zbn1 = Zbn2 =          Rkp + (1j*(2*np.pi*60)*(2E-7)*np.log((dist(bpos[0], bpos[1], n1pos[0], n1pos[1]-Dkkp))/(dist(bpos[0],bpos[1],n1pos[0],n1pos[1]))))\n",
    "\n",
    "Zn1n2 = Rkp + (1j*(2*np.pi*60)*(2E-7)*np.log((dist(n1pos[0], n1pos[1], n2pos[0], n2pos[1]-Dkkp))/(dist(n1pos[0],n1pos[1],n2pos[0],n2pos[1]))))\n",
    "\n",
    "Za = [[Zaa, Zab, Zac],\n",
    "      [Zab, Zbb, Zbc],\n",
    "      [Zac, Zbc, Zcc]]\n",
    "\n",
    "Zb = [[Zan1, Zan2],\n",
    "      [Zbn1, Zbn2],\n",
    "      [Zcn1, Zcn2]]\n",
    "\n",
    "Zc = [[Zan1, Zbn1, Zcn1],\n",
    "      [Zan2, Zbn2, Zcn2]]\n",
    "\n",
    "Zd = [[Zn1n1, Zn1n2],\n",
    "      [Zn1n2, Zn2n2]]\n",
    "\n",
    "Zp = Za-np.matmul(np.matmul(Zb,np.linalg.inv(Zd)),Zc)\n",
    "\n",
    "Zs = (Zp[0,0]+Zp[1,1]+Zp[2,2])/3\n",
    "Zm = (Zp[0,1]+Zp[0,2]+Zp[1,2])/3"
   ]
  },
  {
   "cell_type": "code",
   "execution_count": 225,
   "metadata": {},
   "outputs": [
    {
     "name": "stdout",
     "output_type": "stream",
     "text": [
      "Z0 = (0.45598785298888267+1.2222047446536548j) ohm/km\n",
      "Z1 = (0.03566769900140839+0.36557678690227485j) ohm/km\n",
      "Z2 = (0.03566769900140841+0.36557678690227485j) ohm/km\n"
     ]
    }
   ],
   "source": [
    "Zpsym = [[Zs,Zm,Zm],\n",
    "         [Zm,Zs,Zm],\n",
    "         [Zm,Zm,Zs]]\n",
    "\n",
    "a = cmath.rect(1,120*(np.pi/180))\n",
    "Ainv=[[1,1,1],\n",
    "   [1,a,a**2],\n",
    "   [1,a**2,a]]\n",
    "A=[[1,1,1],\n",
    "   [1,a**2,a],\n",
    "   [1,a,a**2]]\n",
    "\n",
    "Zshat = (1/3)*np.matmul(np.matmul(Ainv,Zpsym),A)  #ohms per meter\n",
    "print(f\"Z0 = {Zshat[0,0]*1000} ohm/km\")\n",
    "print(f\"Z1 = {Zshat[1,1]*1000} ohm/km\")\n",
    "print(f\"Z2 = {Zshat[2,2]*1000} ohm/km\")"
   ]
  },
  {
   "cell_type": "code",
   "execution_count": 224,
   "metadata": {},
   "outputs": [
    {
     "data": {
      "text/plain": [
       "(-7.834466149794468e-17+9.925903512171851e-17j)"
      ]
     },
     "execution_count": 224,
     "metadata": {},
     "output_type": "execute_result"
    }
   ],
   "source": []
  },
  {
   "cell_type": "code",
   "execution_count": null,
   "metadata": {},
   "outputs": [],
   "source": []
  }
 ],
 "metadata": {
  "kernelspec": {
   "display_name": "base",
   "language": "python",
   "name": "python3"
  },
  "language_info": {
   "codemirror_mode": {
    "name": "ipython",
    "version": 3
   },
   "file_extension": ".py",
   "mimetype": "text/x-python",
   "name": "python",
   "nbconvert_exporter": "python",
   "pygments_lexer": "ipython3",
   "version": "3.9.12"
  }
 },
 "nbformat": 4,
 "nbformat_minor": 2
}
